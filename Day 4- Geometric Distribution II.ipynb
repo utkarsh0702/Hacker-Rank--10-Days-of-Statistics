{
 "cells": [
  {
   "cell_type": "code",
   "execution_count": null,
   "metadata": {},
   "outputs": [],
   "source": [
    "frac=input().split(' ')\n",
    "n=int(input())\n",
    "p=int(frac[0])/int(frac[1])\n",
    "q=1-p\n",
    "prob=1-q**n\n",
    "print(round(prob,3))\n"
   ]
  }
 ],
 "metadata": {
  "kernelspec": {
   "display_name": "Python 3",
   "language": "python",
   "name": "python3"
  },
  "language_info": {
   "codemirror_mode": {
    "name": "ipython",
    "version": 3
   },
   "file_extension": ".py",
   "mimetype": "text/x-python",
   "name": "python",
   "nbconvert_exporter": "python",
   "pygments_lexer": "ipython3",
   "version": "3.7.7"
  }
 },
 "nbformat": 4,
 "nbformat_minor": 4
}
