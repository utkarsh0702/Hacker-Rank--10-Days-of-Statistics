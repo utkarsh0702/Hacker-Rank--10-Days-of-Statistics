{
 "cells": [
  {
   "cell_type": "markdown",
   "metadata": {},
   "source": [
    "$ {\\Large Standerd Deviation (\\mu)= \\thinspace \\frac{\\sum_{i=0}^{N-1} \\thinspace X_{i}}{N}}$"
   ]
  },
  {
   "cell_type": "code",
   "execution_count": 2,
   "metadata": {},
   "outputs": [
    {
     "name": "stdout",
     "output_type": "stream",
     "text": [
      "5\n",
      "10 40 30 50 20\n",
      "14.1\n"
     ]
    }
   ],
   "source": [
    "import math\n",
    "\n",
    "N= int(input())\n",
    "x= list(map(int, input().split()))\n",
    "\n",
    "mean= sum(x)/N\n",
    "for i in range(N):\n",
    "    x[i]= (x[i]- mean)**2\n",
    "\n",
    "std= math.sqrt(sum(x)/N)\n",
    "print(round(std,1))\n"
   ]
  },
  {
   "cell_type": "code",
   "execution_count": null,
   "metadata": {},
   "outputs": [],
   "source": []
  }
 ],
 "metadata": {
  "kernelspec": {
   "display_name": "Python 3",
   "language": "python",
   "name": "python3"
  },
  "language_info": {
   "codemirror_mode": {
    "name": "ipython",
    "version": 3
   },
   "file_extension": ".py",
   "mimetype": "text/x-python",
   "name": "python",
   "nbconvert_exporter": "python",
   "pygments_lexer": "ipython3",
   "version": "3.7.7"
  }
 },
 "nbformat": 4,
 "nbformat_minor": 4
}
