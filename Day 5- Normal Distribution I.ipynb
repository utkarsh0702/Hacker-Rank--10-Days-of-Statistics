{
 "cells": [
  {
   "cell_type": "code",
   "execution_count": null,
   "metadata": {},
   "outputs": [],
   "source": [
    "import math\n",
    "mean=20.0\n",
    "stddev=2.0\n",
    "h1=19.5\n",
    "h21,h22=20.0,22.0\n",
    "\n",
    "def integrate(func,b,n=10000):\n",
    "    step=1/n\n",
    "    if(b<0):step=-step\n",
    "    n=int(abs(b)*n)\n",
    "    a=0.0\n",
    "    sq=0.0\n",
    "    for _ in range(0,n):\n",
    "        sq+=step*func(a)\n",
    "        a+=step\n",
    "    return abs(sq)\n",
    "\n",
    "erf = lambda b : (2*math.pi**(-0.5)) * integrate(lambda x: math.exp(-x**2),b)\n",
    "phi = lambda b : (1 + erf( (b-mean) / (stddev * 2**0.5) ))/2\n",
    "lesh1 = phi(0.0) - phi(h1)\n",
    "beth1h2 = phi(h22) - phi(h21)\n",
    "print(f'{lesh1:.3f}')\n",
    "print(f'{beth1h2:.3f}')"
   ]
  }
 ],
 "metadata": {
  "kernelspec": {
   "display_name": "Python 3",
   "language": "python",
   "name": "python3"
  },
  "language_info": {
   "codemirror_mode": {
    "name": "ipython",
    "version": 3
   },
   "file_extension": ".py",
   "mimetype": "text/x-python",
   "name": "python",
   "nbconvert_exporter": "python",
   "pygments_lexer": "ipython3",
   "version": "3.7.7"
  }
 },
 "nbformat": 4,
 "nbformat_minor": 4
}
