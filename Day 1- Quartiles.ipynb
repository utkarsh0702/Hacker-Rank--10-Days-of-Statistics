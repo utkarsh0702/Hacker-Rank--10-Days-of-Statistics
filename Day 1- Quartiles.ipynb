{
 "cells": [
  {
   "cell_type": "markdown",
   "metadata": {},
   "source": [
    "$ Quartles: \\thinspace \\href{https://www.youtube.com/watch?v=K3wsOqIqA6k}{Click \\thinspace Here}$"
   ]
  },
  {
   "cell_type": "code",
   "execution_count": 1,
   "metadata": {},
   "outputs": [
    {
     "name": "stdout",
     "output_type": "stream",
     "text": [
      "9\n",
      "3 7 8 5 12 14 21 13 18\n",
      "6\n",
      "12\n",
      "16\n"
     ]
    }
   ],
   "source": [
    "def median(x):\n",
    "    if len(x)%2!=0:\n",
    "        q2= x[len(x)//2]\n",
    "    else:\n",
    "        q2= int((x[len(x)//2] + x[len(x)//2 -1])/2)\n",
    "    \n",
    "    return q2\n",
    "\n",
    "N= int(input())\n",
    "x= list(map(int, input().split()))\n",
    "x.sort()\n",
    "q2= median(x)\n",
    "small=[i for i in x if i<q2]\n",
    "large=[i for i in x if i>q2]\n",
    "q1= median(small)\n",
    "q3= median(large)\n",
    "print(q1)\n",
    "print(q2)\n",
    "print(q3)"
   ]
  },
  {
   "cell_type": "code",
   "execution_count": null,
   "metadata": {},
   "outputs": [],
   "source": []
  }
 ],
 "metadata": {
  "kernelspec": {
   "display_name": "Python 3",
   "language": "python",
   "name": "python3"
  },
  "language_info": {
   "codemirror_mode": {
    "name": "ipython",
    "version": 3
   },
   "file_extension": ".py",
   "mimetype": "text/x-python",
   "name": "python",
   "nbconvert_exporter": "python",
   "pygments_lexer": "ipython3",
   "version": "3.7.7"
  }
 },
 "nbformat": 4,
 "nbformat_minor": 4
}
