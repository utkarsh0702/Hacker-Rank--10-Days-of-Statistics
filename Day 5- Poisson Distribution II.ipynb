{
 "cells": [
  {
   "cell_type": "code",
   "execution_count": null,
   "metadata": {},
   "outputs": [],
   "source": [
    "averageX, averageY = [float(num) for num in input().split(\" \")]\n",
    "\n",
    "# Cost\n",
    "CostX = 160 + 40*(averageX + averageX**2)\n",
    "CostY = 128 + 40*(averageY + averageY**2)\n",
    "\n",
    "print(round(CostX, 3))\n",
    "print(round(CostY, 3))"
   ]
  }
 ],
 "metadata": {
  "kernelspec": {
   "display_name": "Python 3",
   "language": "python",
   "name": "python3"
  },
  "language_info": {
   "codemirror_mode": {
    "name": "ipython",
    "version": 3
   },
   "file_extension": ".py",
   "mimetype": "text/x-python",
   "name": "python",
   "nbconvert_exporter": "python",
   "pygments_lexer": "ipython3",
   "version": "3.7.7"
  }
 },
 "nbformat": 4,
 "nbformat_minor": 4
}
