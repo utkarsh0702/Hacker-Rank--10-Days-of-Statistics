{
 "cells": [
  {
   "cell_type": "markdown",
   "metadata": {},
   "source": [
    "${ \\Large Weighted Mean(m_{w})= \\frac{\\sum_{i=0}^{N-1} (X_{i} \\thinspace {\\normalsize X} \\thinspace W_{i})}{\\sum_{i=0}^{N-1} W_{i}} }$"
   ]
  },
  {
   "cell_type": "code",
   "execution_count": 1,
   "metadata": {},
   "outputs": [
    {
     "name": "stdout",
     "output_type": "stream",
     "text": [
      "5\n",
      "10 40 30 50 20\n",
      "1 2 3 4 5\n",
      "32.0\n"
     ]
    }
   ],
   "source": [
    "N= int(input())\n",
    "X = list(map(int, input().split()))\n",
    "W = list(map(int, input().split()))\n",
    "for i in range(N):\n",
    "    X[i]*=W[i]\n",
    "wm= sum(X)/sum(W)\n",
    "print(round(wm,1))"
   ]
  },
  {
   "cell_type": "code",
   "execution_count": null,
   "metadata": {},
   "outputs": [],
   "source": []
  }
 ],
 "metadata": {
  "kernelspec": {
   "display_name": "Python 3",
   "language": "python",
   "name": "python3"
  },
  "language_info": {
   "codemirror_mode": {
    "name": "ipython",
    "version": 3
   },
   "file_extension": ".py",
   "mimetype": "text/x-python",
   "name": "python",
   "nbconvert_exporter": "python",
   "pygments_lexer": "ipython3",
   "version": "3.7.7"
  }
 },
 "nbformat": 4,
 "nbformat_minor": 4
}
